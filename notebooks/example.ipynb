{
 "cells": [
  {
   "cell_type": "code",
   "execution_count": 1,
   "metadata": {},
   "outputs": [
    {
     "name": "stdout",
     "output_type": "stream",
     "text": [
      "d:\\FJFI\\KAIST\\Courses\\Graph Machine Learning and Mining\\GMLFinalProject\n"
     ]
    }
   ],
   "source": [
    "import numpy as np\n",
    "%cd ..\n",
    "from src import graph_building\n"
   ]
  },
  {
   "cell_type": "code",
   "execution_count": 2,
   "metadata": {},
   "outputs": [],
   "source": [
    "data = np.array([[3,-1],\n",
    "                 [4,0],\n",
    "                 [5,-2],\n",
    "                 [4,6],\n",
    "                 [5,7],\n",
    "                 [5.5,6]])"
   ]
  },
  {
   "cell_type": "code",
   "execution_count": 3,
   "metadata": {},
   "outputs": [],
   "source": [
    "distances = graph_building.distances(data)"
   ]
  },
  {
   "cell_type": "code",
   "execution_count": 4,
   "metadata": {},
   "outputs": [
    {
     "data": {
      "text/plain": [
       "array([[0.        , 1.41421356, 2.23606798, 7.07106781, 8.24621125,\n",
       "        7.43303437],\n",
       "       [1.41421356, 0.        , 2.23606798, 6.        , 7.07106781,\n",
       "        6.18465844],\n",
       "       [2.23606798, 2.23606798, 0.        , 8.06225775, 9.        ,\n",
       "        8.01560977],\n",
       "       [7.07106781, 6.        , 8.06225775, 0.        , 1.41421356,\n",
       "        1.5       ],\n",
       "       [8.24621125, 7.07106781, 9.        , 1.41421356, 0.        ,\n",
       "        1.11803399],\n",
       "       [7.43303437, 6.18465844, 8.01560977, 1.5       , 1.11803399,\n",
       "        0.        ]])"
      ]
     },
     "execution_count": 4,
     "metadata": {},
     "output_type": "execute_result"
    }
   ],
   "source": [
    "distances"
   ]
  }
 ],
 "metadata": {
  "kernelspec": {
   "display_name": "Python 3",
   "language": "python",
   "name": "python3"
  },
  "language_info": {
   "codemirror_mode": {
    "name": "ipython",
    "version": 3
   },
   "file_extension": ".py",
   "mimetype": "text/x-python",
   "name": "python",
   "nbconvert_exporter": "python",
   "pygments_lexer": "ipython3",
   "version": "3.11.3"
  },
  "orig_nbformat": 4
 },
 "nbformat": 4,
 "nbformat_minor": 2
}
