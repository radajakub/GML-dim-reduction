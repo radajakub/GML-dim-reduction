{
 "cells": [
  {
   "cell_type": "code",
   "execution_count": 13,
   "metadata": {},
   "outputs": [],
   "source": [
    "%matplotlib widget\n",
    "\n",
    "from utils import visualization, weights, features, build, embedding\n",
    "from sklearn.datasets import load_iris\n",
    "from data import preprocessing\n",
    "from sklearn.manifold import trustworthiness"
   ]
  },
  {
   "cell_type": "code",
   "execution_count": 16,
   "metadata": {},
   "outputs": [],
   "source": [
    "iris = load_iris()\n",
    "data = iris.data\n",
    "labels = iris.target\n",
    "data, labels = preprocessing.remove_duplicities(data, labels, shuffle=True, normalize=False)"
   ]
  },
  {
   "attachments": {},
   "cell_type": "markdown",
   "metadata": {},
   "source": [
    "# Node2Vec"
   ]
  },
  {
   "cell_type": "code",
   "execution_count": null,
   "metadata": {},
   "outputs": [],
   "source": [
    "builder = build.CheapestBuilder(weight_fun=weights.get_reciprocal_pow(5), feature_fun=None)\n",
    "embedder = embedding.Node2VecEmbedder(builder)\n",
    "embedder.embed(data)\n",
    "\n",
    "print(embedder.trustworthiness())\n",
    "visualization.show_embedding(embedder.embeddings, labels=labels, title='Node2Vec on iris')"
   ]
  },
  {
   "attachments": {},
   "cell_type": "markdown",
   "metadata": {},
   "source": [
    "# Watch your step"
   ]
  },
  {
   "cell_type": "code",
   "execution_count": 18,
   "metadata": {},
   "outputs": [],
   "source": [
    "builder = build.CheapestBuilder(weight_fun=weights.get_reciprocal_pow(1), feature_fun=None)\n",
    "embedder = embedding.WatchYourStepEmbedder(builder)\n",
    "embedder.embed(data)\n",
    "\n",
    "print(embedder.trustworthiness())\n",
    "visualization.show_data(embedder.embeddings, labels=labels, title='WatchYourStep on iris')"
   ]
  },
  {
   "attachments": {},
   "cell_type": "markdown",
   "metadata": {},
   "source": [
    "# GraphSAGE"
   ]
  },
  {
   "cell_type": "code",
   "execution_count": 19,
   "metadata": {},
   "outputs": [],
   "source": [
    "builder = build.CheapestBuilder(weight_fun=weights.get_reciprocal_pow(5), feature_fun=features.feature_coords)\n",
    "embedder = embedding.GraphSAGEEmbedder(builder, epochs=5)\n",
    "embedder.embed(data)\n",
    "\n",
    "print(embedder.trustworthiness())\n",
    "visualization.show_data(embedder.embeddings, labels=labels, title='GraphSAGE on iris')"
   ]
  },
  {
   "attachments": {},
   "cell_type": "markdown",
   "metadata": {},
   "source": [
    "# Spring\n",
    "\n",
    "## Cheapest build\n",
    "\n",
    "Best trustworthiness for weights.reciprocal and graph_cheapest"
   ]
  },
  {
   "cell_type": "code",
   "execution_count": null,
   "metadata": {},
   "outputs": [],
   "source": [
    "builder = build.CheapestBuilder(weight_fun=weights.reciprocal)\n",
    "embedder = embedding.SpringEmbedder(builder)\n",
    "embedder.embed(data)\n",
    "\n",
    "print(embedder.trustworthiness())\n",
    "visualization.show_embedding(embedder.embeddings, labels=labels, title='Spring layout on iris')"
   ]
  },
  {
   "attachments": {},
   "cell_type": "markdown",
   "metadata": {},
   "source": [
    "## NN spanning"
   ]
  },
  {
   "cell_type": "code",
   "execution_count": null,
   "metadata": {},
   "outputs": [],
   "source": [
    "builder = build.SpanningNNBuilder(weight_fun=weights.get_reciprocal_pow(1), knn=7)\n",
    "embedder = embedding.SpringEmbedder(builder)\n",
    "embedder.embed(data)\n",
    "\n",
    "print(embedder.trustworthiness())\n",
    "visualization.show_embedding(embedder.embeddings, labels=labels, title='Spring layout on iris')"
   ]
  },
  {
   "attachments": {},
   "cell_type": "markdown",
   "metadata": {},
   "source": [
    "## Hierarchical build"
   ]
  },
  {
   "cell_type": "code",
   "execution_count": null,
   "metadata": {},
   "outputs": [],
   "source": [
    "builder = build.HierarchicalBuilder(weight_fun=weights.get_reciprocal_pow(2))\n",
    "embedder = embedding.SpringEmbedder(builder)\n",
    "embedder.embed(data)\n",
    "\n",
    "print(embedder.trustworthiness())\n",
    "visualization.show_embedding(embedder.embeddings, labels=labels, title='Spring layout on iris')"
   ]
  },
  {
   "attachments": {},
   "cell_type": "markdown",
   "metadata": {},
   "source": [
    "## Hierarchical clustering build"
   ]
  },
  {
   "cell_type": "code",
   "execution_count": null,
   "metadata": {},
   "outputs": [],
   "source": [
    "builder = build.HierarchicalClusterBuilder(weight_fun=weights.get_reciprocal_pow(5))\n",
    "embedder = embedding.SpringEmbedder(builder)\n",
    "embedder.embed(data)\n",
    "\n",
    "print(embedder.trustworthiness())\n",
    "visualization.show_embedding(embedder.embeddings, labels=labels, title='Spring layout on iris')"
   ]
  },
  {
   "attachments": {},
   "cell_type": "markdown",
   "metadata": {},
   "source": [
    "# Kamada Kawai"
   ]
  },
  {
   "cell_type": "code",
   "execution_count": null,
   "metadata": {},
   "outputs": [],
   "source": [
    "builder = build.CheapestBuilder(weight_fun=weights.get_reciprocal_pow(1))\n",
    "builder.build(data)\n",
    "embedder = embedding.KamadaKawaiEmbedder()\n",
    "embedder.embed(builder.graph)\n",
    "\n",
    "print(trustworthiness(data, embedder.embeddings))\n",
    "visualization.show_data(embedder.embeddings, labels=labels, title='Kamada-Kawai on iris')"
   ]
  },
  {
   "cell_type": "code",
   "execution_count": null,
   "metadata": {},
   "outputs": [],
   "source": [
    "builder = build.SpanningNNBuilder(weight_fun=weights.get_reciprocal_pow(1), knn=3)\n",
    "builder.build(data)\n",
    "embedder = embedding.KamadaKawaiEmbedder()\n",
    "embedder.embed(builder.graph)\n",
    "\n",
    "print(trustworthiness(data, embedder.embeddings))\n",
    "visualization.show_data(embedder.embeddings, labels=labels, title='Kamada-Kawai on iris')"
   ]
  },
  {
   "cell_type": "code",
   "execution_count": null,
   "metadata": {},
   "outputs": [],
   "source": [
    "builder = build.CheapestNNBuilder(weight_fun=weights.get_reciprocal_pow(1), knn=3)\n",
    "builder.build(data)\n",
    "embedder = embedding.KamadaKawaiEmbedder()\n",
    "embedder.embed(builder.graph)\n",
    "\n",
    "print(trustworthiness(data, embedder.embeddings))\n",
    "visualization.show_data(embedder.embeddings, labels=labels, title='Kamada-Kawai on iris')"
   ]
  },
  {
   "cell_type": "code",
   "execution_count": null,
   "metadata": {},
   "outputs": [],
   "source": [
    "builder = build.HierarchicalBuilder(weight_fun=weights.get_reciprocal_pow(1))\n",
    "builder.build(data)\n",
    "embedder = embedding.KamadaKawaiEmbedder()\n",
    "embedder.embed(builder.graph)\n",
    "\n",
    "print(trustworthiness(data, embedder.embeddings))\n",
    "visualization.show_data(embedder.embeddings, labels=labels, title='Kamada-Kawai on iris')"
   ]
  },
  {
   "cell_type": "code",
   "execution_count": null,
   "metadata": {},
   "outputs": [],
   "source": [
    "builder = build.HierarchicalClusterBuilder(weight_fun=weights.get_reciprocal_pow(1))\n",
    "builder.build(data)\n",
    "embedder = embedding.KamadaKawaiEmbedder()\n",
    "embedder.embed(builder.graph)\n",
    "\n",
    "print(trustworthiness(data, embedder.embeddings))\n",
    "visualization.show_data(embedder.embeddings, labels=labels, title='Kamada-Kawai on iris')"
   ]
  },
  {
   "attachments": {},
   "cell_type": "markdown",
   "metadata": {},
   "source": [
    "# Kamanda-Kawai 3D"
   ]
  },
  {
   "cell_type": "code",
   "execution_count": null,
   "metadata": {},
   "outputs": [],
   "source": [
    "builder = build.CheapestBuilder(weight_fun=weights.get_reciprocal_pow(1))\n",
    "builder.build(data)\n",
    "embedder = embedding.KamadaKawaiEmbedder(embedding_dim=3)\n",
    "embedder.embed(builder.graph)\n",
    "\n",
    "print(trustworthiness(data, embedder.embeddings))\n",
    "visualization.show_data(embedder.embeddings, labels=labels, title='Kamanda-Kawai 3d on iris')"
   ]
  }
 ],
 "metadata": {
  "kernelspec": {
   "display_name": "gml-final",
   "language": "python",
   "name": "python3"
  },
  "language_info": {
   "codemirror_mode": {
    "name": "ipython",
    "version": 3
   },
   "file_extension": ".py",
   "mimetype": "text/x-python",
   "name": "python",
   "nbconvert_exporter": "python",
   "pygments_lexer": "ipython3",
   "version": "3.6.15"
  },
  "orig_nbformat": 4
 },
 "nbformat": 4,
 "nbformat_minor": 2
}
