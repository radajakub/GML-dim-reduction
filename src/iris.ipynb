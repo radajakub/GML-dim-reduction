{
 "cells": [
  {
   "cell_type": "code",
   "execution_count": null,
   "metadata": {},
   "outputs": [],
   "source": [
    "from utils import base, visualization, weights, features, build, evaluation\n",
    "from sklearn.datasets import load_iris\n",
    "from data import preprocessing\n",
    "from utils.embedding import EmbedAlgs"
   ]
  },
  {
   "cell_type": "code",
   "execution_count": null,
   "metadata": {},
   "outputs": [],
   "source": [
    "iris = load_iris()\n",
    "data = iris.data\n",
    "labels = iris.target\n",
    "data, labels = preprocessing.remove_duplicities(data, labels, shuffle=True, normalize=True)"
   ]
  },
  {
   "attachments": {},
   "cell_type": "markdown",
   "metadata": {},
   "source": [
    "# Node2Vec"
   ]
  },
  {
   "cell_type": "code",
   "execution_count": null,
   "metadata": {},
   "outputs": [],
   "source": [
    "embeddings = base.embed_data(data, EmbedAlgs.node2vec, build_fun=build.build_graph_nn_spanning, weight_fun=weights.get_reciprocal_pow(5), walk_length=100, num_walks=10, knn=3)"
   ]
  },
  {
   "cell_type": "code",
   "execution_count": null,
   "metadata": {},
   "outputs": [],
   "source": [
    "visualization.show_embedding(embeddings, labels=labels, show_numbers=False, aspect='auto', title='node2vec', outpath='')"
   ]
  },
  {
   "attachments": {},
   "cell_type": "markdown",
   "metadata": {},
   "source": [
    "# Watch your step"
   ]
  },
  {
   "cell_type": "code",
   "execution_count": null,
   "metadata": {},
   "outputs": [],
   "source": [
    "embeddings = base.embed_data(data, EmbedAlgs.watchyourstep, build_fun=build.build_graph_nn_spanning ,weight_fun=weights.get_reciprocal_pow(5), num_walks=100, adjacency_powers=10, attention_regularization=0.5, batch_size=12, epochs=100, knn=6)"
   ]
  },
  {
   "cell_type": "code",
   "execution_count": null,
   "metadata": {},
   "outputs": [],
   "source": [
    "score = evaluation.eval_trustworthiness(data, embeddings)\n",
    "score"
   ]
  },
  {
   "cell_type": "code",
   "execution_count": null,
   "metadata": {},
   "outputs": [],
   "source": [
    "visualization.show_embedding(embeddings, labels=labels, aspect='auto', show_numbers = False, title='Watch your step', outpath='')"
   ]
  },
  {
   "attachments": {},
   "cell_type": "markdown",
   "metadata": {},
   "source": [
    "# GraphSAGE"
   ]
  },
  {
   "cell_type": "code",
   "execution_count": null,
   "metadata": {},
   "outputs": [],
   "source": [
    "embeddings = base.embed_data(data, EmbedAlgs.graphsage, build_fun=build.build_graph_nn_spanning, feature_fun=features.feature_coords, weight_fun=weights.get_reciprocal_pow(5), epochs=5, num_samples=[10, 5], layer_sizes=[20, 2], dropout=0.05, bias=False, walk_length=10, num_walks=10, batch_size=50)\n"
   ]
  },
  {
   "cell_type": "code",
   "execution_count": null,
   "metadata": {},
   "outputs": [],
   "source": [
    "visualization.show_embedding(embeddings, labels=labels, show_numbers=False, aspect='auto', title='GraphSAGE', outpath='', dpi=400)"
   ]
  }
 ],
 "metadata": {
  "kernelspec": {
   "display_name": "gml-final",
   "language": "python",
   "name": "python3"
  },
  "language_info": {
   "codemirror_mode": {
    "name": "ipython",
    "version": 3
   },
   "file_extension": ".py",
   "mimetype": "text/x-python",
   "name": "python",
   "nbconvert_exporter": "python",
   "pygments_lexer": "ipython3",
   "version": "3.6.15"
  },
  "orig_nbformat": 4
 },
 "nbformat": 4,
 "nbformat_minor": 2
}
