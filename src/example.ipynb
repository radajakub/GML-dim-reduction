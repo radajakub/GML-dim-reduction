{
 "cells": [
  {
   "attachments": {},
   "cell_type": "markdown",
   "metadata": {},
   "source": [
    "# Example use of our algorithm"
   ]
  },
  {
   "cell_type": "code",
   "execution_count": null,
   "metadata": {},
   "outputs": [],
   "source": [
    "from utils import visualization, build, weights, features, embedding\n",
    "from data import small"
   ]
  },
  {
   "attachments": {},
   "cell_type": "markdown",
   "metadata": {},
   "source": [
    "## Embed simple 2D data"
   ]
  },
  {
   "cell_type": "code",
   "execution_count": null,
   "metadata": {},
   "outputs": [],
   "source": [
    "data = small.TWO_CLOUDS_2D\n",
    "labels = small.TWO_CLOUDS_2D_LABELS"
   ]
  },
  {
   "cell_type": "code",
   "execution_count": null,
   "metadata": {},
   "outputs": [],
   "source": [
<<<<<<< HEAD
    "# change aspect to 'auto' for nicer graph\n",
    "visualization.show_data(data2d, graph2d, labels=data2d_labels, aspect='equal')"
   ]
  },
  {
   "cell_type": "code",
   "execution_count": null,
   "metadata": {},
   "outputs": [],
   "source": [
    "embeddings2d = base.embed_data(data2d, EmbedAlgs.node2vec, build_fun=build.build_graph_nn_cheapest, dims=2, walk_length=100, num_walks=10, seed=0)"
   ]
  },
  {
   "cell_type": "code",
   "execution_count": null,
   "metadata": {},
   "outputs": [],
   "source": [
    "visualization.show_embedding(embeddings2d, labels=data2d_labels, aspect='auto')"
=======
    "builder = build.CheapestBuilder(weight_fun=weights.get_reciprocal_pow(5))\n",
    "embedder = embedding.Node2VecEmbedder(builder)\n",
    "embedder.embed(data)\n",
    "\n",
    "visualization.show_data(data, builder.graph, labels=labels, show_numbers=True)\n",
    "visualization.show_embedding(embedder.embeddings, labels=labels, show_numbers=True)"
>>>>>>> 88cf76d (Changed to object oriented paradigm)
   ]
  },
  {
   "attachments": {},
   "cell_type": "markdown",
   "metadata": {},
   "source": [
    "## Embed simple 3D data"
   ]
  },
  {
   "cell_type": "code",
   "execution_count": null,
   "metadata": {},
   "outputs": [],
   "source": [
    "data = small.THREE_CLOUDS_3D\n",
    "labels = small.THREE_CLOUDS_3D_LABELS"
   ]
  },
  {
   "cell_type": "code",
   "execution_count": null,
   "metadata": {},
   "outputs": [],
   "source": [
    "builder = build.CheapestBuilder(weight_fun=weights.get_reciprocal_pow(5))\n",
    "embedder = embedding.Node2VecEmbedder(builder)\n",
    "embedder.embed(data)\n",
    "\n",
    "visualization.show_data(data, builder.graph, labels=labels, show_numbers=True)\n",
    "visualization.show_embedding(embedder.embeddings, labels=labels, show_numbers=True)"
   ]
  },
  {
   "attachments": {},
   "cell_type": "markdown",
   "metadata": {},
   "source": [
    "# Embed more complicated 2D data"
   ]
  },
  {
   "cell_type": "code",
   "execution_count": null,
   "metadata": {},
   "outputs": [],
   "source": [
    "data = small.FOUR_CLOUDS_2D\n",
    "labels = small.FOUR_CLOUDS_2D_LABELS"
   ]
  },
  {
   "cell_type": "code",
   "execution_count": null,
   "metadata": {},
   "outputs": [],
   "source": [
<<<<<<< HEAD
    "graph2d = build.build_graph_cheapest(data2d)\n",
    "visualization.show_graph_in_data(data2d, graph2d, labels=data2d_labels, aspect='auto')"
   ]
  },
  {
   "attachments": {},
   "cell_type": "markdown",
   "metadata": {},
   "source": [
    "## Nearest neighbor build"
   ]
  },
  {
   "cell_type": "code",
   "execution_count": null,
   "metadata": {},
   "outputs": [],
   "source": [
    "graph2d = build.build_graph_nn_cheapest(data2d, knn=1)\n",
    "visualization.show_graph_in_data(data2d, graph2d, labels=data2d_labels, aspect='auto', dpi=400, outpath='graph.png')"
   ]
  },
  {
   "attachments": {},
   "cell_type": "markdown",
   "metadata": {},
   "source": [
    "# Minimum spanning tree build"
   ]
  },
  {
   "cell_type": "code",
   "execution_count": null,
   "metadata": {},
   "outputs": [],
   "source": [
    "graph2d = build.build_graph_spanning(data2d)\n",
    "visualization.show_graph_in_data(data2d, graph2d, labels=data2d_labels, aspect='auto')"
   ]
  },
  {
   "cell_type": "code",
   "execution_count": null,
   "metadata": {},
   "outputs": [],
   "source": [
    "graph2d = build.build_graph_nn_spanning(data2d, knn=1)\n",
    "visualization.show_graph_in_data(data2d, graph2d, labels=data2d_labels, aspect='auto')"
=======
    "builder = build.SpanningNNBuilder(weight_fun=weights.get_reciprocal_pow(5))\n",
    "embedder = embedding.Node2VecEmbedder(builder)\n",
    "embedder.embed(data)\n",
    "\n",
    "visualization.show_data(data, builder.graph, labels=labels, show_numbers=True)\n",
    "visualization.show_embedding(embedder.embeddings, labels=labels, show_numbers=True)"
>>>>>>> 88cf76d (Changed to object oriented paradigm)
   ]
  }
 ],
 "metadata": {
  "kernelspec": {
   "display_name": "Python 3.10.4 64-bit",
   "language": "python",
   "name": "python3"
  },
  "language_info": {
   "codemirror_mode": {
    "name": "ipython",
    "version": 3
   },
   "file_extension": ".py",
   "mimetype": "text/x-python",
   "name": "python",
   "nbconvert_exporter": "python",
   "pygments_lexer": "ipython3",
   "version": "3.6.13"
  },
  "orig_nbformat": 4,
  "vscode": {
   "interpreter": {
    "hash": "369f2c481f4da34e4445cda3fffd2e751bd1c4d706f27375911949ba6bb62e1c"
   }
  }
 },
 "nbformat": 4,
 "nbformat_minor": 2
}
