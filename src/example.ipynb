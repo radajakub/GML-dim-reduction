{
 "cells": [
  {
   "attachments": {},
   "cell_type": "markdown",
   "metadata": {},
   "source": [
    "# Example use of our algorithm"
   ]
  },
  {
   "cell_type": "code",
   "execution_count": null,
   "metadata": {},
   "outputs": [],
   "source": [
    "from utils import visualization, base, build, weights, features\n",
    "from utils.embedding import EmbedAlgs\n",
    "from data import small"
   ]
  },
  {
   "attachments": {},
   "cell_type": "markdown",
   "metadata": {},
   "source": [
    "## Embed simple 2D data"
   ]
  },
  {
   "cell_type": "code",
   "execution_count": null,
   "metadata": {},
   "outputs": [],
   "source": [
    "data2d = small.TWO_CLOUDS_2D\n",
    "data2d_labels = small.TWO_CLOUDS_2D_LABELS\n",
    "graph2d = build.build_graph_cheapest(data2d)"
   ]
  },
  {
   "cell_type": "code",
   "execution_count": null,
   "metadata": {},
   "outputs": [],
   "source": [
    "# change aspect to 'auto' for nicer graph\n",
    "visualization.show_data(data2d, graph2d, labels=data2d_labels, aspect='equal')"
   ]
  },
  {
   "cell_type": "code",
   "execution_count": null,
   "metadata": {},
   "outputs": [],
   "source": [
    "embeddings2d = base.embed_data(data2d, EmbedAlgs.node2vec, build_fun=build.build_graph_nn, dims=2, walk_length=100, num_walks=10, seed=0)"
   ]
  },
  {
   "cell_type": "code",
   "execution_count": null,
   "metadata": {},
   "outputs": [],
   "source": [
    "visualization.show_embedding(embeddings2d, labels=data2d_labels, aspect='auto')"
   ]
  },
  {
   "attachments": {},
   "cell_type": "markdown",
   "metadata": {},
   "source": [
    "## Embed simple 3D data"
   ]
  },
  {
   "cell_type": "code",
   "execution_count": null,
   "metadata": {},
   "outputs": [],
   "source": [
    "data3d = small.THREE_CLOUDS_3D\n",
    "data3d_labels = small.THREE_CLOUDS_3D_LABELS\n",
    "graph3d = build.build_graph_nn(data3d)"
   ]
  },
  {
   "cell_type": "code",
   "execution_count": null,
   "metadata": {},
   "outputs": [],
   "source": [
    "visualization.show_data(data3d, graph3d, labels=data3d_labels, aspect='auto')"
   ]
  },
  {
   "cell_type": "code",
   "execution_count": null,
   "metadata": {},
   "outputs": [],
   "source": [
    "embeddings3d = base.embed_data(data3d, EmbedAlgs.node2vec, dims=2, walk_length=100, num_walks=10, seed=0)"
   ]
  },
  {
   "cell_type": "code",
   "execution_count": null,
   "metadata": {},
   "outputs": [],
   "source": [
    "visualization.show_embedding(embeddings3d, labels=data3d_labels, aspect='auto')"
   ]
  },
  {
   "attachments": {},
   "cell_type": "markdown",
   "metadata": {},
   "source": [
    "# Embed more complicated 2D data"
   ]
  },
  {
   "cell_type": "code",
   "execution_count": null,
   "metadata": {},
   "outputs": [],
   "source": [
    "data2d = small.FOUR_CLOUDS_2D\n",
    "data2d_labels = small.FOUR_CLOUDS_2D_LABELS"
   ]
  },
  {
   "attachments": {},
   "cell_type": "markdown",
   "metadata": {},
   "source": [
    "# Cheapest build"
   ]
  },
  {
   "cell_type": "code",
   "execution_count": null,
   "metadata": {},
   "outputs": [],
   "source": [
    "graph2d = build.build_graph_cheapest(data2d)\n",
    "visualization.show_graph_in_data(data2d, graph2d, labels=data2d_labels, aspect='auto')"
   ]
  },
  {
   "attachments": {},
   "cell_type": "markdown",
   "metadata": {},
   "source": [
    "## Nearest neighbor build"
   ]
  },
  {
   "cell_type": "code",
   "execution_count": null,
   "metadata": {},
   "outputs": [],
   "source": [
    "graph2d = build.build_graph_nn_cheapest(data2d, knn=1)\n",
    "visualization.show_graph_in_data(data2d, graph2d, labels=data2d_labels, aspect='auto', dpi=400, outpath='graph.png')"
   ]
  },
  {
   "attachments": {},
   "cell_type": "markdown",
   "metadata": {},
   "source": [
    "# Minimum spanning tree build"
   ]
  },
  {
   "cell_type": "code",
   "execution_count": null,
   "metadata": {},
   "outputs": [],
   "source": [
    "graph2d = build.build_graph_spanning(data2d)\n",
    "visualization.show_graph_in_data(data2d, graph2d, labels=data2d_labels, aspect='auto')"
   ]
  },
  {
   "cell_type": "code",
   "execution_count": null,
   "metadata": {},
   "outputs": [],
   "source": [
    "graph2d = build.build_graph_nn_spanning(data2d, knn=2)\n",
    "visualization.show_graph_in_data(data2d, graph2d, labels=data2d_labels, aspect='auto')"
   ]
  }
 ],
 "metadata": {
  "kernelspec": {
   "display_name": "Python 3.10.4 64-bit",
   "language": "python",
   "name": "python3"
  },
  "language_info": {
   "codemirror_mode": {
    "name": "ipython",
    "version": 3
   },
   "file_extension": ".py",
   "mimetype": "text/x-python",
   "name": "python",
   "nbconvert_exporter": "python",
   "pygments_lexer": "ipython3",
   "version": "3.6.15"
  },
  "orig_nbformat": 4,
  "vscode": {
   "interpreter": {
    "hash": "369f2c481f4da34e4445cda3fffd2e751bd1c4d706f27375911949ba6bb62e1c"
   }
  }
 },
 "nbformat": 4,
 "nbformat_minor": 2
}
