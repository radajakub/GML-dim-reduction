{
 "cells": [
  {
   "cell_type": "code",
   "execution_count": null,
   "metadata": {},
   "outputs": [],
   "source": [
    "from sklearn.decomposition import PCA\n",
    "from sklearn.manifold import TSNE\n",
    "import umap#carefull run pip install umap-learn, not umap\n",
    "from sklearn.datasets import load_iris\n",
    "import matplotlib.pyplot as plt\n",
    "\n",
    "# Load the Iris dataset\n",
    "iris = load_iris()\n",
    "X = iris.data\n",
    "y = iris.target\n",
    "\n",
    "# Apply PCA\n",
    "pca = PCA(n_components=2)\n",
    "X_transformed = pca.fit_transform(X)\n",
    "\n",
    "# Plot the transformed data\n",
    "plt.scatter(X_transformed[:, 0], X_transformed[:, 1], c=y, cmap='viridis')\n",
    "plt.xlabel('Principal Component 1')\n",
    "plt.ylabel('Principal Component 2')\n",
    "plt.title('PCA on Iris Dataset')\n",
    "plt.show()\n"
   ]
  },
  {
   "cell_type": "code",
   "execution_count": null,
   "metadata": {},
   "outputs": [],
   "source": [
    "# Apply t-SNE\n",
    "tsne = TSNE(n_components=2, random_state=42)\n",
    "X_transformed = tsne.fit_transform(X)\n",
    "\n",
    "# Plot the transformed data\n",
    "plt.scatter(X_transformed[:, 0], X_transformed[:, 1], c=y, cmap='viridis')\n",
    "plt.xlabel('t-SNE Component 1')\n",
    "plt.ylabel('t-SNE Component 2')\n",
    "plt.title('t-SNE on Iris Dataset')\n",
    "plt.show()"
   ]
  },
  {
   "cell_type": "code",
   "execution_count": null,
   "metadata": {},
   "outputs": [],
   "source": [
    "# Apply UMAP\n",
    "umap_obj = umap.UMAP(n_components=2, random_state=42)\n",
    "X_transformed = umap_obj.fit_transform(X)\n",
    "\n",
    "# Plot the transformed data\n",
    "plt.scatter(X_transformed[:, 0], X_transformed[:, 1], c=y, cmap='viridis')\n",
    "plt.xlabel('UMAP Component 1')\n",
    "plt.ylabel('UMAP Component 2')\n",
    "plt.title('UMAP on Iris Dataset')\n",
    "plt.show()\n"
   ]
  },
  {
   "cell_type": "code",
   "execution_count": null,
   "metadata": {},
   "outputs": [],
   "source": [
    "from utils import embedding, visualization, weights\n",
    "from data import preprocessing\n",
    "\n"
   ]
  },
  {
   "cell_type": "code",
   "execution_count": null,
   "metadata": {},
   "outputs": [],
   "source": [
    "from sklearn.utils import shuffle\n",
    "import random\n",
    "random.shuffle(X)\n",
    "random.shuffle(y)\n",
    "\n",
    "X_a = X[0:80,:3]\n",
    "y_a = y[0:80]\n",
    "print(X_a.shape)"
   ]
  },
  {
   "cell_type": "code",
   "execution_count": null,
   "metadata": {},
   "outputs": [],
   "source": [
    "#plot the original data\n"
   ]
  },
  {
   "cell_type": "code",
   "execution_count": null,
   "metadata": {},
   "outputs": [],
   "source": [
    "X_trans, y_trans = preprocessing.remove_duplicities(X_a, y_a)\n",
    "print(X_trans.shape)\n",
    "graph = embedding.build_graph(X_trans)\n",
    "visualization.show_graph(graph,labels=y_trans)\n",
    "embeddings = embedding.embed_graph(graph, dims=2, walk_length=100, num_walks=10, seed=0)\n",
    "# embeddings = embedding.embed_data(X_trans, weight_fun=weights.reciprocal, walk_length=100, num_walks=10)\n",
    "visualization.show_embedding(embeddings, labels=y_trans, show_numbers=False, aspect='auto',title=\"Djt on Iris Dataset\")\n",
    "\n",
    "\n",
    "visualization.show_data(X_trans, graph, labels=y_trans)"
   ]
  },
  {
   "cell_type": "code",
   "execution_count": null,
   "metadata": {},
   "outputs": [],
   "source": []
  }
 ],
 "metadata": {
  "kernelspec": {
   "display_name": "Python 3.10.4 64-bit",
   "language": "python",
   "name": "python3"
  },
  "language_info": {
   "codemirror_mode": {
    "name": "ipython",
    "version": 3
   },
   "file_extension": ".py",
   "mimetype": "text/x-python",
   "name": "python",
   "nbconvert_exporter": "python",
   "pygments_lexer": "ipython3",
   "version": "3.10.4"
  },
  "orig_nbformat": 4,
  "vscode": {
   "interpreter": {
    "hash": "369f2c481f4da34e4445cda3fffd2e751bd1c4d706f27375911949ba6bb62e1c"
   }
  }
 },
 "nbformat": 4,
 "nbformat_minor": 2
}
