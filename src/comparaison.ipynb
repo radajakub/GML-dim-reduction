{
 "cells": [
  {
   "cell_type": "code",
   "execution_count": null,
   "metadata": {},
   "outputs": [],
   "source": [
    "from sklearn.decomposition import PCA\n",
    "from sklearn.manifold import TSNE\n",
    "import umap#carefull run pip install umap-learn, not umap\n",
    "from sklearn.datasets import load_iris\n",
    "import matplotlib.pyplot as plt\n",
    "\n",
    "# Load the Iris dataset\n",
    "iris = load_iris()\n",
    "X = iris.data\n",
    "y = iris.target\n",
    "\n",
    "# Apply PCA\n",
    "pca = PCA(n_components=2)\n",
    "X_transformed = pca.fit_transform(X)\n",
    "\n",
    "# Plot the transformed data\n",
    "plt.scatter(X_transformed[:, 0], X_transformed[:, 1], c=y, cmap='viridis')\n",
    "plt.xlabel('Principal Component 1')\n",
    "plt.ylabel('Principal Component 2')\n",
    "plt.title('PCA on Iris Dataset')\n",
    "plt.show()\n"
   ]
  },
  {
   "cell_type": "code",
   "execution_count": null,
   "metadata": {},
   "outputs": [],
   "source": [
    "# Apply t-SNE\n",
    "tsne = TSNE(n_components=2, random_state=42)\n",
    "X_transformed = tsne.fit_transform(X)\n",
    "\n",
    "# Plot the transformed data\n",
    "plt.scatter(X_transformed[:, 0], X_transformed[:, 1], c=y, cmap='viridis')\n",
    "plt.xlabel('t-SNE Component 1')\n",
    "plt.ylabel('t-SNE Component 2')\n",
    "plt.title('t-SNE on Iris Dataset')\n",
    "plt.show()"
   ]
  },
  {
   "cell_type": "code",
   "execution_count": null,
   "metadata": {},
   "outputs": [],
   "source": [
    "# Apply UMAP\n",
    "umap_obj = umap.UMAP(n_components=2, random_state=42)\n",
    "X_transformed = umap_obj.fit_transform(X)\n",
    "\n",
    "# Plot the transformed data\n",
    "plt.scatter(X_transformed[:, 0], X_transformed[:, 1], c=y, cmap='viridis')\n",
    "plt.xlabel('UMAP Component 1')\n",
    "plt.ylabel('UMAP Component 2')\n",
    "plt.title('UMAP on Iris Dataset')\n",
    "plt.show()\n"
   ]
  },
  {
   "cell_type": "code",
   "execution_count": 7,
   "metadata": {},
   "outputs": [
    {
     "name": "stdout",
     "output_type": "stream",
     "text": [
      "<class 'numpy.ndarray'>\n"
     ]
    }
   ],
   "source": []
  },
  {
   "cell_type": "code",
   "execution_count": 8,
   "metadata": {},
   "outputs": [
    {
     "name": "stderr",
     "output_type": "stream",
     "text": [
      "c:\\Users\\theob\\GMLFinalProject\\src\\utils\\embedding.py:34: RuntimeWarning: divide by zero encountered in double_scalars\n",
      "  g.add_edge(u, v, weight=1/dist)\n"
     ]
    },
    {
     "data": {
      "application/vnd.jupyter.widget-view+json": {
       "model_id": "77053080af174820975997898b2a2855",
       "version_major": 2,
       "version_minor": 0
      },
      "text/plain": [
       "Computing transition probabilities:   0%|          | 0/150 [00:00<?, ?it/s]"
      ]
     },
     "metadata": {},
     "output_type": "display_data"
    },
    {
     "name": "stderr",
     "output_type": "stream",
     "text": [
      "C:\\Users\\theob\\AppData\\Roaming\\Python\\Python310\\site-packages\\node2vec\\node2vec.py:134: RuntimeWarning: invalid value encountered in true_divide\n",
      "  source] = unnormalized_weights / unnormalized_weights.sum()\n",
      "C:\\Users\\theob\\AppData\\Roaming\\Python\\Python310\\site-packages\\node2vec\\node2vec.py:143: RuntimeWarning: invalid value encountered in true_divide\n",
      "  d_graph[source][self.FIRST_TRAVEL_KEY] = first_travel_weights / first_travel_weights.sum()\n",
      "Generating walks (CPU: 1):   0%|          | 0/10 [00:00<?, ?it/s]"
     ]
    },
    {
     "ename": "ValueError",
     "evalue": "Total of weights must be finite",
     "output_type": "error",
     "traceback": [
      "\u001b[1;31m---------------------------------------------------------------------------\u001b[0m",
      "\u001b[1;31mValueError\u001b[0m                                Traceback (most recent call last)",
      "\u001b[1;32mc:\\Users\\theob\\GMLFinalProject\\src\\comparaison.ipynb Cell 5\u001b[0m in \u001b[0;36m<cell line: 6>\u001b[1;34m()\u001b[0m\n\u001b[0;32m      <a href='vscode-notebook-cell:/c%3A/Users/theob/GMLFinalProject/src/comparaison.ipynb#W3sZmlsZQ%3D%3D?line=2'>3</a>\u001b[0m \u001b[39mfrom\u001b[39;00m \u001b[39mdata\u001b[39;00m \u001b[39mimport\u001b[39;00m small\n\u001b[0;32m      <a href='vscode-notebook-cell:/c%3A/Users/theob/GMLFinalProject/src/comparaison.ipynb#W3sZmlsZQ%3D%3D?line=4'>5</a>\u001b[0m graph2d \u001b[39m=\u001b[39m embedding\u001b[39m.\u001b[39mbuild_graph(X)\n\u001b[1;32m----> <a href='vscode-notebook-cell:/c%3A/Users/theob/GMLFinalProject/src/comparaison.ipynb#W3sZmlsZQ%3D%3D?line=5'>6</a>\u001b[0m embeddings2d \u001b[39m=\u001b[39m embedding\u001b[39m.\u001b[39;49membed_graph(graph2d, dims\u001b[39m=\u001b[39;49m\u001b[39m2\u001b[39;49m, walk_length\u001b[39m=\u001b[39;49m\u001b[39m100\u001b[39;49m, num_walks\u001b[39m=\u001b[39;49m\u001b[39m10\u001b[39;49m, seed\u001b[39m=\u001b[39;49m\u001b[39m0\u001b[39;49m)\n\u001b[0;32m      <a href='vscode-notebook-cell:/c%3A/Users/theob/GMLFinalProject/src/comparaison.ipynb#W3sZmlsZQ%3D%3D?line=6'>7</a>\u001b[0m visualization\u001b[39m.\u001b[39mshow_embedding(embeddings2d, labels\u001b[39m=\u001b[39mY)\n",
      "File \u001b[1;32mc:\\Users\\theob\\GMLFinalProject\\src\\utils\\embedding.py:45\u001b[0m, in \u001b[0;36membed_graph\u001b[1;34m(graph, dims, walk_length, num_walks, seed)\u001b[0m\n\u001b[0;32m     42\u001b[0m \u001b[39mdef\u001b[39;00m \u001b[39membed_graph\u001b[39m(graph, dims\u001b[39m=\u001b[39m\u001b[39m2\u001b[39m, walk_length\u001b[39m=\u001b[39m\u001b[39m100\u001b[39m, num_walks\u001b[39m=\u001b[39m\u001b[39m10\u001b[39m, seed\u001b[39m=\u001b[39m\u001b[39m0\u001b[39m):\n\u001b[0;32m     43\u001b[0m     \u001b[39m# compute embeddings\u001b[39;00m\n\u001b[0;32m     44\u001b[0m     \u001b[39m# TODO: look into the parameters of fit method, these ones are kind of random\u001b[39;00m\n\u001b[1;32m---> 45\u001b[0m     node2vec \u001b[39m=\u001b[39m Node2Vec(graph, dimensions\u001b[39m=\u001b[39;49mdims,\n\u001b[0;32m     46\u001b[0m                         walk_length\u001b[39m=\u001b[39;49mwalk_length, num_walks\u001b[39m=\u001b[39;49mnum_walks, seed\u001b[39m=\u001b[39;49mseed)\n\u001b[0;32m     47\u001b[0m     model \u001b[39m=\u001b[39m node2vec\u001b[39m.\u001b[39mfit(window\u001b[39m=\u001b[39m\u001b[39m10\u001b[39m, min_count\u001b[39m=\u001b[39m\u001b[39m1\u001b[39m, batch_words\u001b[39m=\u001b[39m\u001b[39m4\u001b[39m)\n\u001b[0;32m     49\u001b[0m     \u001b[39m# put all embeddings to np matrix while preserving original order\u001b[39;00m\n",
      "File \u001b[1;32m~\\AppData\\Roaming\\Python\\Python310\\site-packages\\node2vec\\node2vec.py:74\u001b[0m, in \u001b[0;36mNode2Vec.__init__\u001b[1;34m(self, graph, dimensions, walk_length, num_walks, p, q, weight_key, workers, sampling_strategy, quiet, temp_folder, seed)\u001b[0m\n\u001b[0;32m     71\u001b[0m     np\u001b[39m.\u001b[39mrandom\u001b[39m.\u001b[39mseed(seed)\n\u001b[0;32m     73\u001b[0m \u001b[39mself\u001b[39m\u001b[39m.\u001b[39m_precompute_probabilities()\n\u001b[1;32m---> 74\u001b[0m \u001b[39mself\u001b[39m\u001b[39m.\u001b[39mwalks \u001b[39m=\u001b[39m \u001b[39mself\u001b[39;49m\u001b[39m.\u001b[39;49m_generate_walks()\n",
      "File \u001b[1;32m~\\AppData\\Roaming\\Python\\Python310\\site-packages\\node2vec\\node2vec.py:159\u001b[0m, in \u001b[0;36mNode2Vec._generate_walks\u001b[1;34m(self)\u001b[0m\n\u001b[0;32m    156\u001b[0m \u001b[39m# Split num_walks for each worker\u001b[39;00m\n\u001b[0;32m    157\u001b[0m num_walks_lists \u001b[39m=\u001b[39m np\u001b[39m.\u001b[39marray_split(\u001b[39mrange\u001b[39m(\u001b[39mself\u001b[39m\u001b[39m.\u001b[39mnum_walks), \u001b[39mself\u001b[39m\u001b[39m.\u001b[39mworkers)\n\u001b[1;32m--> 159\u001b[0m walk_results \u001b[39m=\u001b[39m Parallel(n_jobs\u001b[39m=\u001b[39;49m\u001b[39mself\u001b[39;49m\u001b[39m.\u001b[39;49mworkers, temp_folder\u001b[39m=\u001b[39;49m\u001b[39mself\u001b[39;49m\u001b[39m.\u001b[39;49mtemp_folder, require\u001b[39m=\u001b[39;49m\u001b[39mself\u001b[39;49m\u001b[39m.\u001b[39;49mrequire)(\n\u001b[0;32m    160\u001b[0m     delayed(parallel_generate_walks)(\u001b[39mself\u001b[39;49m\u001b[39m.\u001b[39;49md_graph,\n\u001b[0;32m    161\u001b[0m                                      \u001b[39mself\u001b[39;49m\u001b[39m.\u001b[39;49mwalk_length,\n\u001b[0;32m    162\u001b[0m                                      \u001b[39mlen\u001b[39;49m(num_walks),\n\u001b[0;32m    163\u001b[0m                                      idx,\n\u001b[0;32m    164\u001b[0m                                      \u001b[39mself\u001b[39;49m\u001b[39m.\u001b[39;49msampling_strategy,\n\u001b[0;32m    165\u001b[0m                                      \u001b[39mself\u001b[39;49m\u001b[39m.\u001b[39;49mNUM_WALKS_KEY,\n\u001b[0;32m    166\u001b[0m                                      \u001b[39mself\u001b[39;49m\u001b[39m.\u001b[39;49mWALK_LENGTH_KEY,\n\u001b[0;32m    167\u001b[0m                                      \u001b[39mself\u001b[39;49m\u001b[39m.\u001b[39;49mNEIGHBORS_KEY,\n\u001b[0;32m    168\u001b[0m                                      \u001b[39mself\u001b[39;49m\u001b[39m.\u001b[39;49mPROBABILITIES_KEY,\n\u001b[0;32m    169\u001b[0m                                      \u001b[39mself\u001b[39;49m\u001b[39m.\u001b[39;49mFIRST_TRAVEL_KEY,\n\u001b[0;32m    170\u001b[0m                                      \u001b[39mself\u001b[39;49m\u001b[39m.\u001b[39;49mquiet) \u001b[39mfor\u001b[39;49;00m\n\u001b[0;32m    171\u001b[0m     idx, num_walks\n\u001b[0;32m    172\u001b[0m     \u001b[39min\u001b[39;49;00m \u001b[39menumerate\u001b[39;49m(num_walks_lists, \u001b[39m1\u001b[39;49m))\n\u001b[0;32m    174\u001b[0m walks \u001b[39m=\u001b[39m flatten(walk_results)\n\u001b[0;32m    176\u001b[0m \u001b[39mreturn\u001b[39;00m walks\n",
      "File \u001b[1;32mc:\\Python310\\lib\\site-packages\\joblib\\parallel.py:1043\u001b[0m, in \u001b[0;36mParallel.__call__\u001b[1;34m(self, iterable)\u001b[0m\n\u001b[0;32m   1034\u001b[0m \u001b[39mtry\u001b[39;00m:\n\u001b[0;32m   1035\u001b[0m     \u001b[39m# Only set self._iterating to True if at least a batch\u001b[39;00m\n\u001b[0;32m   1036\u001b[0m     \u001b[39m# was dispatched. In particular this covers the edge\u001b[39;00m\n\u001b[1;32m   (...)\u001b[0m\n\u001b[0;32m   1040\u001b[0m     \u001b[39m# was very quick and its callback already dispatched all the\u001b[39;00m\n\u001b[0;32m   1041\u001b[0m     \u001b[39m# remaining jobs.\u001b[39;00m\n\u001b[0;32m   1042\u001b[0m     \u001b[39mself\u001b[39m\u001b[39m.\u001b[39m_iterating \u001b[39m=\u001b[39m \u001b[39mFalse\u001b[39;00m\n\u001b[1;32m-> 1043\u001b[0m     \u001b[39mif\u001b[39;00m \u001b[39mself\u001b[39;49m\u001b[39m.\u001b[39;49mdispatch_one_batch(iterator):\n\u001b[0;32m   1044\u001b[0m         \u001b[39mself\u001b[39m\u001b[39m.\u001b[39m_iterating \u001b[39m=\u001b[39m \u001b[39mself\u001b[39m\u001b[39m.\u001b[39m_original_iterator \u001b[39mis\u001b[39;00m \u001b[39mnot\u001b[39;00m \u001b[39mNone\u001b[39;00m\n\u001b[0;32m   1046\u001b[0m     \u001b[39mwhile\u001b[39;00m \u001b[39mself\u001b[39m\u001b[39m.\u001b[39mdispatch_one_batch(iterator):\n",
      "File \u001b[1;32mc:\\Python310\\lib\\site-packages\\joblib\\parallel.py:861\u001b[0m, in \u001b[0;36mParallel.dispatch_one_batch\u001b[1;34m(self, iterator)\u001b[0m\n\u001b[0;32m    859\u001b[0m     \u001b[39mreturn\u001b[39;00m \u001b[39mFalse\u001b[39;00m\n\u001b[0;32m    860\u001b[0m \u001b[39melse\u001b[39;00m:\n\u001b[1;32m--> 861\u001b[0m     \u001b[39mself\u001b[39;49m\u001b[39m.\u001b[39;49m_dispatch(tasks)\n\u001b[0;32m    862\u001b[0m     \u001b[39mreturn\u001b[39;00m \u001b[39mTrue\u001b[39;00m\n",
      "File \u001b[1;32mc:\\Python310\\lib\\site-packages\\joblib\\parallel.py:779\u001b[0m, in \u001b[0;36mParallel._dispatch\u001b[1;34m(self, batch)\u001b[0m\n\u001b[0;32m    777\u001b[0m \u001b[39mwith\u001b[39;00m \u001b[39mself\u001b[39m\u001b[39m.\u001b[39m_lock:\n\u001b[0;32m    778\u001b[0m     job_idx \u001b[39m=\u001b[39m \u001b[39mlen\u001b[39m(\u001b[39mself\u001b[39m\u001b[39m.\u001b[39m_jobs)\n\u001b[1;32m--> 779\u001b[0m     job \u001b[39m=\u001b[39m \u001b[39mself\u001b[39;49m\u001b[39m.\u001b[39;49m_backend\u001b[39m.\u001b[39;49mapply_async(batch, callback\u001b[39m=\u001b[39;49mcb)\n\u001b[0;32m    780\u001b[0m     \u001b[39m# A job can complete so quickly than its callback is\u001b[39;00m\n\u001b[0;32m    781\u001b[0m     \u001b[39m# called before we get here, causing self._jobs to\u001b[39;00m\n\u001b[0;32m    782\u001b[0m     \u001b[39m# grow. To ensure correct results ordering, .insert is\u001b[39;00m\n\u001b[0;32m    783\u001b[0m     \u001b[39m# used (rather than .append) in the following line\u001b[39;00m\n\u001b[0;32m    784\u001b[0m     \u001b[39mself\u001b[39m\u001b[39m.\u001b[39m_jobs\u001b[39m.\u001b[39minsert(job_idx, job)\n",
      "File \u001b[1;32mc:\\Python310\\lib\\site-packages\\joblib\\_parallel_backends.py:208\u001b[0m, in \u001b[0;36mSequentialBackend.apply_async\u001b[1;34m(self, func, callback)\u001b[0m\n\u001b[0;32m    206\u001b[0m \u001b[39mdef\u001b[39;00m \u001b[39mapply_async\u001b[39m(\u001b[39mself\u001b[39m, func, callback\u001b[39m=\u001b[39m\u001b[39mNone\u001b[39;00m):\n\u001b[0;32m    207\u001b[0m     \u001b[39m\"\"\"Schedule a func to be run\"\"\"\u001b[39;00m\n\u001b[1;32m--> 208\u001b[0m     result \u001b[39m=\u001b[39m ImmediateResult(func)\n\u001b[0;32m    209\u001b[0m     \u001b[39mif\u001b[39;00m callback:\n\u001b[0;32m    210\u001b[0m         callback(result)\n",
      "File \u001b[1;32mc:\\Python310\\lib\\site-packages\\joblib\\_parallel_backends.py:572\u001b[0m, in \u001b[0;36mImmediateResult.__init__\u001b[1;34m(self, batch)\u001b[0m\n\u001b[0;32m    569\u001b[0m \u001b[39mdef\u001b[39;00m \u001b[39m__init__\u001b[39m(\u001b[39mself\u001b[39m, batch):\n\u001b[0;32m    570\u001b[0m     \u001b[39m# Don't delay the application, to avoid keeping the input\u001b[39;00m\n\u001b[0;32m    571\u001b[0m     \u001b[39m# arguments in memory\u001b[39;00m\n\u001b[1;32m--> 572\u001b[0m     \u001b[39mself\u001b[39m\u001b[39m.\u001b[39mresults \u001b[39m=\u001b[39m batch()\n",
      "File \u001b[1;32mc:\\Python310\\lib\\site-packages\\joblib\\parallel.py:262\u001b[0m, in \u001b[0;36mBatchedCalls.__call__\u001b[1;34m(self)\u001b[0m\n\u001b[0;32m    258\u001b[0m \u001b[39mdef\u001b[39;00m \u001b[39m__call__\u001b[39m(\u001b[39mself\u001b[39m):\n\u001b[0;32m    259\u001b[0m     \u001b[39m# Set the default nested backend to self._backend but do not set the\u001b[39;00m\n\u001b[0;32m    260\u001b[0m     \u001b[39m# change the default number of processes to -1\u001b[39;00m\n\u001b[0;32m    261\u001b[0m     \u001b[39mwith\u001b[39;00m parallel_backend(\u001b[39mself\u001b[39m\u001b[39m.\u001b[39m_backend, n_jobs\u001b[39m=\u001b[39m\u001b[39mself\u001b[39m\u001b[39m.\u001b[39m_n_jobs):\n\u001b[1;32m--> 262\u001b[0m         \u001b[39mreturn\u001b[39;00m [func(\u001b[39m*\u001b[39margs, \u001b[39m*\u001b[39m\u001b[39m*\u001b[39mkwargs)\n\u001b[0;32m    263\u001b[0m                 \u001b[39mfor\u001b[39;00m func, args, kwargs \u001b[39min\u001b[39;00m \u001b[39mself\u001b[39m\u001b[39m.\u001b[39mitems]\n",
      "File \u001b[1;32mc:\\Python310\\lib\\site-packages\\joblib\\parallel.py:262\u001b[0m, in \u001b[0;36m<listcomp>\u001b[1;34m(.0)\u001b[0m\n\u001b[0;32m    258\u001b[0m \u001b[39mdef\u001b[39;00m \u001b[39m__call__\u001b[39m(\u001b[39mself\u001b[39m):\n\u001b[0;32m    259\u001b[0m     \u001b[39m# Set the default nested backend to self._backend but do not set the\u001b[39;00m\n\u001b[0;32m    260\u001b[0m     \u001b[39m# change the default number of processes to -1\u001b[39;00m\n\u001b[0;32m    261\u001b[0m     \u001b[39mwith\u001b[39;00m parallel_backend(\u001b[39mself\u001b[39m\u001b[39m.\u001b[39m_backend, n_jobs\u001b[39m=\u001b[39m\u001b[39mself\u001b[39m\u001b[39m.\u001b[39m_n_jobs):\n\u001b[1;32m--> 262\u001b[0m         \u001b[39mreturn\u001b[39;00m [func(\u001b[39m*\u001b[39margs, \u001b[39m*\u001b[39m\u001b[39m*\u001b[39mkwargs)\n\u001b[0;32m    263\u001b[0m                 \u001b[39mfor\u001b[39;00m func, args, kwargs \u001b[39min\u001b[39;00m \u001b[39mself\u001b[39m\u001b[39m.\u001b[39mitems]\n",
      "File \u001b[1;32m~\\AppData\\Roaming\\Python\\Python310\\site-packages\\node2vec\\parallel.py:62\u001b[0m, in \u001b[0;36mparallel_generate_walks\u001b[1;34m(d_graph, global_walk_length, num_walks, cpu_num, sampling_strategy, num_walks_key, walk_length_key, neighbors_key, probabilities_key, first_travel_key, quiet)\u001b[0m\n\u001b[0;32m     60\u001b[0m     \u001b[39melse\u001b[39;00m:\n\u001b[0;32m     61\u001b[0m         probabilities \u001b[39m=\u001b[39m d_graph[walk[\u001b[39m-\u001b[39m\u001b[39m1\u001b[39m]][probabilities_key][walk[\u001b[39m-\u001b[39m\u001b[39m2\u001b[39m]]\n\u001b[1;32m---> 62\u001b[0m         walk_to \u001b[39m=\u001b[39m random\u001b[39m.\u001b[39;49mchoices(walk_options, weights\u001b[39m=\u001b[39;49mprobabilities)[\u001b[39m0\u001b[39m]\n\u001b[0;32m     64\u001b[0m     walk\u001b[39m.\u001b[39mappend(walk_to)\n\u001b[0;32m     66\u001b[0m walk \u001b[39m=\u001b[39m \u001b[39mlist\u001b[39m(\u001b[39mmap\u001b[39m(\u001b[39mstr\u001b[39m, walk))  \u001b[39m# Convert all to strings\u001b[39;00m\n",
      "File \u001b[1;32mc:\\Python310\\lib\\random.py:537\u001b[0m, in \u001b[0;36mRandom.choices\u001b[1;34m(self, population, weights, cum_weights, k)\u001b[0m\n\u001b[0;32m    535\u001b[0m     \u001b[39mraise\u001b[39;00m \u001b[39mValueError\u001b[39;00m(\u001b[39m'\u001b[39m\u001b[39mTotal of weights must be greater than zero\u001b[39m\u001b[39m'\u001b[39m)\n\u001b[0;32m    536\u001b[0m \u001b[39mif\u001b[39;00m \u001b[39mnot\u001b[39;00m _isfinite(total):\n\u001b[1;32m--> 537\u001b[0m     \u001b[39mraise\u001b[39;00m \u001b[39mValueError\u001b[39;00m(\u001b[39m'\u001b[39m\u001b[39mTotal of weights must be finite\u001b[39m\u001b[39m'\u001b[39m)\n\u001b[0;32m    538\u001b[0m bisect \u001b[39m=\u001b[39m _bisect\n\u001b[0;32m    539\u001b[0m hi \u001b[39m=\u001b[39m n \u001b[39m-\u001b[39m \u001b[39m1\u001b[39m\n",
      "\u001b[1;31mValueError\u001b[0m: Total of weights must be finite"
     ]
    }
   ],
   "source": [
    "# # Apply djt algorithm\n",
    "# from utils import embedding, visualization\n",
    "# from data import small\n",
    "\n",
    "# graph2d = embedding.build_graph(X)\n",
    "# embeddings2d = embedding.embed_graph(graph2d, dims=2, walk_length=100, num_walks=10, seed=0)\n",
    "# visualization.show_embedding(embeddings2d, labels=Y)"
   ]
  },
  {
   "cell_type": "code",
   "execution_count": null,
   "metadata": {},
   "outputs": [],
   "source": []
  }
 ],
 "metadata": {
  "kernelspec": {
   "display_name": "Python 3.10.4 64-bit",
   "language": "python",
   "name": "python3"
  },
  "language_info": {
   "codemirror_mode": {
    "name": "ipython",
    "version": 3
   },
   "file_extension": ".py",
   "mimetype": "text/x-python",
   "name": "python",
   "nbconvert_exporter": "python",
   "pygments_lexer": "ipython3",
   "version": "3.10.4"
  },
  "orig_nbformat": 4,
  "vscode": {
   "interpreter": {
    "hash": "369f2c481f4da34e4445cda3fffd2e751bd1c4d706f27375911949ba6bb62e1c"
   }
  }
 },
 "nbformat": 4,
 "nbformat_minor": 2
}
