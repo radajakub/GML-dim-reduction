{
 "cells": [
  {
   "attachments": {},
   "cell_type": "markdown",
   "metadata": {},
   "source": [
    "# Showcase different graph-building algorithms"
   ]
  },
  {
   "cell_type": "code",
   "execution_count": null,
   "metadata": {},
   "outputs": [],
   "source": [
    "from utils import build, weights, features, visualization\n",
    "from data import preprocessing, small"
   ]
  },
  {
   "cell_type": "code",
   "execution_count": null,
   "metadata": {},
   "outputs": [],
   "source": [
    "data = small.FOUR_CLOUDS_2D\n",
    "labels = small.FOUR_CLOUDS_2D_LABELS\n",
    "data, labels = preprocessing.remove_duplicities(data, labels, shuffle = False, normalize=False)"
   ]
  },
  {
   "attachments": {},
   "cell_type": "markdown",
   "metadata": {},
   "source": [
    "## Cheapest build"
   ]
  },
  {
   "cell_type": "code",
   "execution_count": null,
   "metadata": {},
   "outputs": [],
   "source": [
    "cheapest = build.CheapestBuilder(weight_fun=weights.reciprocal, feature_fun=features.feature_coords)\n",
    "cheapest.build(data)\n",
    "visualization.show_graph_in_data(data, cheapest.graph, labels=labels, aspect='auto', outpath='', show_numbers=False, title='Cheapest graph build', dpi=300)"
   ]
  },
  {
   "attachments": {},
   "cell_type": "markdown",
   "metadata": {},
   "source": [
    "## Full graph build"
   ]
  },
  {
   "cell_type": "code",
   "execution_count": null,
   "metadata": {},
   "outputs": [],
   "source": [
    "full = build.FullBuilder(weight_fun=weights.reciprocal, feature_fun=features.feature_coords)\n",
    "full.build(data)\n",
    "visualization.show_graph_in_data(data, full.graph, labels=labels, aspect='auto', outpath='', show_numbers=False, title='Cheapest graph build', dpi=300)"
   ]
  },
  {
   "attachments": {},
   "cell_type": "markdown",
   "metadata": {},
   "source": [
    "## Spanning tree build"
   ]
  },
  {
   "cell_type": "code",
   "execution_count": null,
   "metadata": {},
   "outputs": [],
   "source": [
    "spanning = build.SpanningTreeBuilder(weight_fun=weights.reciprocal, feature_fun=features.feature_coords)\n",
    "spanning.build(data)\n",
    "visualization.show_graph_in_data(data, spanning.graph, labels=labels, aspect='auto', outpath='', show_numbers=False, title='Cheapest graph build', dpi=300)"
   ]
  },
  {
   "attachments": {},
   "cell_type": "markdown",
   "metadata": {},
   "source": [
    "## k-nearest neighbor cheapest build"
   ]
  },
  {
   "cell_type": "code",
   "execution_count": null,
   "metadata": {},
   "outputs": [],
   "source": [
    "nn_cheapest = build.CheapestNNBuilder(weight_fun=weights.reciprocal, feature_fun=features.feature_coords, knn=2)\n",
    "nn_cheapest.build(data)\n",
    "visualization.show_graph_in_data(data, nn_cheapest.graph, labels=labels, aspect='auto', outpath='', show_numbers=False, title='Cheapest graph build', dpi=300)"
   ]
  },
  {
   "attachments": {},
   "cell_type": "markdown",
   "metadata": {},
   "source": [
    "## k-nearest neighbor spanning tree build"
   ]
  },
  {
   "cell_type": "code",
   "execution_count": null,
   "metadata": {},
   "outputs": [],
   "source": [
    "nn_spanning = build.SpanningNNBuilder(weight_fun=weights.reciprocal, feature_fun=features.feature_coords, knn=2)\n",
    "nn_spanning.build(data)\n",
    "visualization.show_graph_in_data(data, nn_spanning.graph, labels=labels, aspect='auto', outpath='', show_numbers=False, title='Cheapest graph build', dpi=300)"
   ]
  }
 ],
 "metadata": {
  "kernelspec": {
   "display_name": "gml-final",
   "language": "python",
   "name": "python3"
  },
  "language_info": {
   "codemirror_mode": {
    "name": "ipython",
    "version": 3
   },
   "file_extension": ".py",
   "mimetype": "text/x-python",
   "name": "python",
   "nbconvert_exporter": "python",
   "pygments_lexer": "ipython3",
   "version": "3.6.15"
  },
  "orig_nbformat": 4
 },
 "nbformat": 4,
 "nbformat_minor": 2
}
