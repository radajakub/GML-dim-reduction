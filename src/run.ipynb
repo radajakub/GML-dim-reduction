{
 "cells": [
  {
   "cell_type": "markdown",
   "metadata": {},
   "source": [
    "# Dimensionality reduction using graphs"
   ]
  },
  {
   "cell_type": "code",
   "execution_count": null,
   "metadata": {},
   "outputs": [],
   "source": [
    "%matplotlib widget\n",
    "\n",
    "from utils import visualization, weights, features, build, embedding, evaluation\n",
    "from sklearn.datasets import load_digits, load_iris, make_swiss_roll\n",
    "from data import preprocessing, small\n",
    "import networkx as nx\n",
    "import umap\n",
    "from sklearn.decomposition import PCA\n",
    "from sklearn.manifold import TSNE\n",
    "import keras"
   ]
  },
  {
   "cell_type": "markdown",
   "metadata": {},
   "source": [
    "## Load dataset\n",
    "\n",
    "Select a dataset for testing the algorithms"
   ]
  },
  {
   "cell_type": "markdown",
   "metadata": {},
   "source": [
    "### Small toy dataset"
   ]
  },
  {
   "cell_type": "code",
   "execution_count": null,
   "metadata": {},
   "outputs": [],
   "source": [
    "# two point clouds in 2D\n",
    "# data = small.TWO_CLOUDS_2D\n",
    "# labels = small.TWO_CLOUDS_2D_LABELS\n",
    "\n",
    "# four point clouds in 2D\n",
    "# data = small.FOUR_CLOUDS_2D\n",
    "# labels = small.FOUR_CLOUDS_2D\n",
    "\n",
    "# five point clouds in 2D\n",
    "data = small.FIVE_CLOUDS_2D\n",
    "labels = small.FIVE_CLOUDS_2D_LABELS\n",
    "\n",
    "# three point clouds in 3D\n",
    "# data = small.THREE_CLOUDS_3D\n",
    "# labels = small.THREE_CLOUDS_3D_LABELS"
   ]
  },
  {
   "cell_type": "markdown",
   "metadata": {},
   "source": [
    "### Iris"
   ]
  },
  {
   "cell_type": "code",
   "execution_count": null,
   "metadata": {},
   "outputs": [],
   "source": [
    "iris = load_iris()\n",
    "data = iris.data\n",
    "labels = iris.target"
   ]
  },
  {
   "cell_type": "markdown",
   "metadata": {},
   "source": [
    "### Digits"
   ]
  },
  {
   "cell_type": "code",
   "execution_count": null,
   "metadata": {},
   "outputs": [],
   "source": [
    "digits = load_digits()\n",
    "data = digits.data\n",
    "labels = digits.target"
   ]
  },
  {
   "cell_type": "markdown",
   "metadata": {},
   "source": [
    "### Swiss roll"
   ]
  },
  {
   "cell_type": "code",
   "execution_count": null,
   "metadata": {},
   "outputs": [],
   "source": [
    "data, labels = make_swiss_roll(n_samples=1000, noise=0.0, random_state=0)"
   ]
  },
  {
   "cell_type": "markdown",
   "metadata": {},
   "source": [
    "## Remove duplicities\n",
    "\n",
    "important to do for every datasets - some edge weights can be infinite otherwise"
   ]
  },
  {
   "cell_type": "code",
   "execution_count": null,
   "metadata": {},
   "outputs": [],
   "source": [
    "data, labels = preprocessing.remove_duplicities(data, labels, shuffle=True, normalize=False)"
   ]
  },
  {
   "cell_type": "markdown",
   "metadata": {},
   "source": [
    "## Visualize dataset\n",
    "\n",
    "note that the function throws error on datasets with dimension different than 2 and 3"
   ]
  },
  {
   "cell_type": "code",
   "execution_count": null,
   "metadata": {},
   "outputs": [],
   "source": [
    "visualization.show_data(data, graph=None, labels=labels, square=False, outpath='', show_numbers=False, title='Original space', dpi=300)"
   ]
  },
  {
   "cell_type": "markdown",
   "metadata": {},
   "source": [
    "## Select builder"
   ]
  },
  {
   "cell_type": "markdown",
   "metadata": {},
   "source": [
    "1. select weight function and feature function"
   ]
  },
  {
   "cell_type": "code",
   "execution_count": null,
   "metadata": {},
   "outputs": [],
   "source": [
    "# get reciprocal function 1/x^k\n",
    "weight_fun = weights.get_reciprocal_pow(k=1)\n",
    "\n",
    "# feature function - necessary only for GraphSAGE\n",
    "feature_fun = None\n",
    "# feature_fun = features.feature_coords # features are coordinates in the original space\n",
    "# feature_fun = features.feature_deg_weight # features are degree of a node and average outgoing edge weight"
   ]
  },
  {
   "cell_type": "markdown",
   "metadata": {},
   "source": [
    "2. select builder method"
   ]
  },
  {
   "cell_type": "code",
   "execution_count": null,
   "metadata": {},
   "outputs": [],
   "source": [
    "# builder = build.FullBuilder(weight_fun=weight_fun, feature_fun=feature_fun)\n",
    "# builder = build.CheapestBuilder(weight_fun=weight_fun, feature_fun=feature_fun)\n",
    "# builder = build.CheapestNNBuilder(weight_fun=weight_fun, feature_fun=feature_fun, knn=2)\n",
    "builder = build.SpanningTreeBuilder(weight_fun=weight_fun, feature_fun=feature_fun)\n",
    "# builder = build.SpanningNNBuilder(weight_fun=weight_fun, feature_fun=feature_fun, knn=2)\n",
    "# builder = build.HierarchicalBuilder(weight_fun=weight_fun, feature_fun=feature_fun, knn=2)\n",
    "# builder = build.HierarchicalClusterBuilder(weight_fun=weight_fun, feature_fun=feature_fun, knn=2)\n",
    "# builder = build.SpanningTreeDenseBuilder(weight_fun=weight_fun, feature_fun=feature_fun)"
   ]
  },
  {
   "cell_type": "markdown",
   "metadata": {},
   "source": [
    "3. build the graph with the selected builder"
   ]
  },
  {
   "cell_type": "code",
   "execution_count": null,
   "metadata": {},
   "outputs": [],
   "source": [
    "builder.build(data)\n",
    "graph = builder.graph"
   ]
  },
  {
   "cell_type": "markdown",
   "metadata": {},
   "source": [
    "## Visualize the graph and connections in original space"
   ]
  },
  {
   "cell_type": "code",
   "execution_count": null,
   "metadata": {},
   "outputs": [],
   "source": [
    "visualization.show_graph(graph, labels=labels, outpath='', show_numbers=False, title='Graph', dpi=300)"
   ]
  },
  {
   "cell_type": "code",
   "execution_count": null,
   "metadata": {},
   "outputs": [],
   "source": [
    "visualization.show_data(data, graph=graph, labels=labels, square=False, outpath='', show_numbers=False, title='Original space with built connections', dpi=300)"
   ]
  },
  {
   "cell_type": "markdown",
   "metadata": {},
   "source": [
    "## Embed the graph"
   ]
  },
  {
   "cell_type": "markdown",
   "metadata": {},
   "source": [
    "1. select target dimension"
   ]
  },
  {
   "cell_type": "code",
   "execution_count": null,
   "metadata": {},
   "outputs": [],
   "source": [
    "target_dimension = 2"
   ]
  },
  {
   "cell_type": "markdown",
   "metadata": {},
   "source": [
    "2. select the embedder method"
   ]
  },
  {
   "cell_type": "code",
   "execution_count": null,
   "metadata": {},
   "outputs": [],
   "source": [
    "# embedder = embedding.Node2VecEmbedder(embedding_dim=target_dimension, walk_length=100, num_walks=10, window=10, min_count=1, batch_words=4)\n",
    "\n",
    "# embedder = embedding.WatchYourStepEmbedder(embedding_dim=target_dimension, adjacency_powers=10, num_walks=150, attention_regularization=0.5, batch_size=12, epochs=100)\n",
    "\n",
    "# embedder = embedding.GraphSAGEEmbedder(embedding_dim=target_dimension, num_walks=10, walk_length=10, batch_size=50, epochs=4, num_samples=[10, 5], layer_sizes=[20, 2], dropout=0.05, bias=False, loss=keras.losses.binary_crossentropy, normalize=None)\n",
    "\n",
    "# embedder = embedding.SpringEmbedder()\n",
    "\n",
    "embedder = embedding.KamadaKawaiEmbedder(embedding_dim=target_dimension, scale=1)"
   ]
  },
  {
   "cell_type": "markdown",
   "metadata": {},
   "source": [
    "3. embed the data"
   ]
  },
  {
   "cell_type": "code",
   "execution_count": null,
   "metadata": {},
   "outputs": [],
   "source": [
    "embedder.embed(graph)\n",
    "embeddings = embedder.embeddings"
   ]
  },
  {
   "cell_type": "markdown",
   "metadata": {},
   "source": [
    "4. compute metrics"
   ]
  },
  {
   "cell_type": "code",
   "execution_count": null,
   "metadata": {},
   "outputs": [],
   "source": [
    "evaluation.print_evaluation(data=data, embeddings=embeddings)"
   ]
  },
  {
   "cell_type": "markdown",
   "metadata": {},
   "source": [
    "## Visualize the result\n",
    "\n",
    "note that it is possible only for target dimension 2 or 3"
   ]
  },
  {
   "cell_type": "code",
   "execution_count": null,
   "metadata": {},
   "outputs": [],
   "source": [
    "visualization.show_data(embeddings, labels=labels, square=False, outpath='', show_numbers=False, title='Embedded data', dpi=300)"
   ]
  },
  {
   "cell_type": "markdown",
   "metadata": {},
   "source": [
    "## Compare with SOTA"
   ]
  },
  {
   "cell_type": "markdown",
   "metadata": {},
   "source": [
    "### PCA"
   ]
  },
  {
   "cell_type": "code",
   "execution_count": null,
   "metadata": {},
   "outputs": [],
   "source": [
    "pca = PCA(n_components=target_dimension)\n",
    "pca_embeddings = pca.fit_transform(data)\n",
    "evaluation.print_evaluation(data=data, embeddings=pca_embeddings)"
   ]
  },
  {
   "cell_type": "code",
   "execution_count": null,
   "metadata": {},
   "outputs": [],
   "source": [
    "visualization.show_data(pca_embeddings, labels=labels, square=False, outpath='', show_numbers=False, title='PCA embeddings', dpi=300)"
   ]
  },
  {
   "cell_type": "markdown",
   "metadata": {},
   "source": [
    "### UMAP"
   ]
  },
  {
   "cell_type": "code",
   "execution_count": null,
   "metadata": {},
   "outputs": [],
   "source": [
    "umap_obj = umap.UMAP(n_components=target_dimension, random_state=0)\n",
    "umap_embeddings = umap_obj.fit_transform(data)\n",
    "evaluation.print_evaluation(data=data, embeddings=umap_embeddings)"
   ]
  },
  {
   "cell_type": "code",
   "execution_count": null,
   "metadata": {},
   "outputs": [],
   "source": [
    "visualization.show_data(umap_embeddings, labels=labels, square=False, outpath='', show_numbers=False, title='UMAP embeddings', dpi=300)"
   ]
  },
  {
   "cell_type": "markdown",
   "metadata": {},
   "source": [
    "### TSNE"
   ]
  },
  {
   "cell_type": "code",
   "execution_count": null,
   "metadata": {},
   "outputs": [],
   "source": [
    "tsne = TSNE(n_components=target_dimension, random_state=0)\n",
    "tsne_embeddings = tsne.fit_transform(data)\n",
    "evaluation.print_evaluation(data=data, embeddings=tsne_embeddings)"
   ]
  },
  {
   "cell_type": "code",
   "execution_count": null,
   "metadata": {},
   "outputs": [],
   "source": [
    "visualization.show_data(tsne_embeddings, labels=labels, square=False, outpath='', show_numbers=False, title='TSNE embeddings', dpi=300)"
   ]
  }
 ],
 "metadata": {
  "kernelspec": {
   "display_name": "dimred",
   "language": "python",
   "name": "python3"
  },
  "language_info": {
   "codemirror_mode": {
    "name": "ipython",
    "version": 3
   },
   "file_extension": ".py",
   "mimetype": "text/x-python",
   "name": "python",
   "nbconvert_exporter": "python",
   "pygments_lexer": "ipython3",
   "version": "3.6.15"
  },
  "orig_nbformat": 4
 },
 "nbformat": 4,
 "nbformat_minor": 2
}
